{
 "cells": [
  {
   "cell_type": "markdown",
   "id": "db639d30",
   "metadata": {},
   "source": [
    "# Insightful-Q-A-Chatbot"
   ]
  },
  {
   "cell_type": "markdown",
   "id": "f972f82d",
   "metadata": {},
   "source": [
    "### Google Palm LLM in LangChain"
   ]
  },
  {
   "cell_type": "code",
   "execution_count": 1,
   "id": "73ddd073",
   "metadata": {},
   "outputs": [
    {
     "data": {
      "text/plain": [
       "True"
      ]
     },
     "execution_count": 1,
     "metadata": {},
     "output_type": "execute_result"
    }
   ],
   "source": [
    "import os\n",
    "from dotenv import load_dotenv\n",
    "load_dotenv()"
   ]
  },
  {
   "cell_type": "code",
   "execution_count": 3,
   "id": "a34aa70b",
   "metadata": {},
   "outputs": [
    {
     "name": "stderr",
     "output_type": "stream",
     "text": [
      "c:\\Sahil\\portfolio\\Insightful-Q-A-Chatbot\\venv\\lib\\site-packages\\tqdm\\auto.py:21: TqdmWarning: IProgress not found. Please update jupyter and ipywidgets. See https://ipywidgets.readthedocs.io/en/stable/user_install.html\n",
      "  from .autonotebook import tqdm as notebook_tqdm\n"
     ]
    }
   ],
   "source": [
    "from langchain.llms import GooglePalm\n",
    "\n",
    "api_key = 'GOOGLE_API_KEY' #get this api key from https://makersuite.google.com/\n",
    "\n",
    "llm = GooglePalm(GOOGLE_API_KEY=os.environ[\"GOOGLE_API_KEY\"], temperature=0.6)"
   ]
  },
  {
   "cell_type": "code",
   "execution_count": 9,
   "id": "6a6f7c27",
   "metadata": {},
   "outputs": [
    {
     "name": "stdout",
     "output_type": "stream",
     "text": [
      "```python\n",
      "# A simple calculator program in Python\n",
      "\n",
      "# Define the functions for addition, subtraction, multiplication, and division.\n",
      "def add(a, b):\n",
      "    return a + b\n",
      "\n",
      "def subtract(a, b):\n",
      "    return a - b\n",
      "\n",
      "def multiply(a, b):\n",
      "    return a * b\n",
      "\n",
      "def divide(a, b):\n",
      "    return a / b\n",
      "\n",
      "# Get the user's input for the two numbers and the operation to perform.\n",
      "first_number = int(input(\"Enter the first number: \"))\n",
      "second_number = int(input(\"Enter the second number: \"))\n",
      "operation = input(\"Enter the operation to perform (+, -, *, /): \")\n",
      "\n",
      "# Perform the operation and print the result.\n",
      "if operation == \"+\":\n",
      "    result = add(first_number, second_number)\n",
      "elif operation == \"-\":\n",
      "    result = subtract(first_number, second_number)\n",
      "elif operation == \"*\":\n",
      "    result = multiply(first_number, second_number)\n",
      "elif operation == \"/\":\n",
      "    result = divide(first_number, second_number)\n",
      "else:\n",
      "    print(\"Invalid operation.\")\n",
      "\n",
      "print(\"The result is\", result)\n",
      "```\n"
     ]
    }
   ],
   "source": [
    "# Write a python code for calculator application\n",
    "code = llm(\"Write a python code for calculator\")\n",
    "print(code)"
   ]
  },
  {
   "cell_type": "code",
   "execution_count": 6,
   "id": "2b610123",
   "metadata": {},
   "outputs": [
    {
     "name": "stdout",
     "output_type": "stream",
     "text": [
      "The Palm model is a hierarchical recurrent neural network (RNN) designed to process sequential data. It is composed of a stack of RNN layers, each of which is connected to the previous layer via a gating mechanism. This allows the model to learn long-term dependencies in the data.\n",
      "\n",
      "The Palm model was developed by researchers at Google AI in 2017. It was first used to win the first-place prize in the Google Loungin' competition, a challenge to build a model that could generate text from a prompt. The model has since been used for a variety of tasks, including machine translation, question answering, and text summarization.\n",
      "\n",
      "The Palm model is a powerful tool for processing sequential data. It is able to learn long-term dependencies in the data, which makes it well-suited for tasks such as machine translation and question answering. However, the model can also be computationally expensive to train, and it may not be suitable for all tasks.\n",
      "\n",
      "Here is an example of how the Palm model can be used to generate text. Given the prompt \"Write a poem about a flower,\" the model can generate the following poem:\n",
      "\n",
      "```\n",
      "The flower blooms in the sun,\n",
      "Its petals soft and bright.\n",
      "It drinks in the light,\n",
      "And grows ever more beautiful.\n",
      "\n",
      "The flower is a symbol of hope,\n",
      "Of new beginnings and possibilities.\n",
      "It reminds us that even in the darkest of times,\n",
      "There is always beauty to be found.\n",
      "```\n",
      "\n",
      "The Palm model is a powerful tool that can be used to generate text, translate languages, and answer questions. It is still under development, but it has the potential to revolutionize the way we interact with computers.\n"
     ]
    }
   ],
   "source": [
    "theory = llm(\"Explain Google Palm model\")\n",
    "print(theory)"
   ]
  },
  {
   "cell_type": "code",
   "execution_count": 5,
   "id": "c235a80e",
   "metadata": {
    "scrolled": true
   },
   "outputs": [
    {
     "name": "stdout",
     "output_type": "stream",
     "text": [
      "1. The Dark Knight (2008)\n",
      "2. The Avengers (2012)\n",
      "3. Spider-Man: Into the Spider-Verse (2018)\n",
      "4. Black Panther (2018)\n",
      "5. Wonder Woman (2017)\n",
      "6. The Incredibles (2004)\n"
     ]
    }
   ],
   "source": [
    "movies = llm(\"Write 6 best super hero movies\")\n",
    "print(movies)"
   ]
  },
  {
   "cell_type": "code",
   "execution_count": 4,
   "id": "227816a9",
   "metadata": {},
   "outputs": [],
   "source": [
    "from langchain.chains import RetrievalQA\n",
    "from langchain.embeddings import GooglePalmEmbeddings\n",
    "from langchain.llms import GooglePalm"
   ]
  },
  {
   "cell_type": "markdown",
   "id": "765695b5",
   "metadata": {},
   "source": [
    "### Now let's load data from csv file"
   ]
  },
  {
   "cell_type": "code",
   "execution_count": 3,
   "id": "0c62e35c",
   "metadata": {},
   "outputs": [
    {
     "name": "stdout",
     "output_type": "stream",
     "text": [
      "page_content='prompt: Why should I trust Codebasics?\\nresponse: Till now 9000 + learners have benefitted from the quality of our courses. You can check the review section and also we have attached their LinkedIn profiles so that you can connect with them and ask directly.' metadata={'source': 'Why should I trust Codebasics?', 'row': 1}\n"
     ]
    }
   ],
   "source": [
    "from langchain.document_loaders.csv_loader import CSVLoader\n",
    "\n",
    "# Specify the encoding as 'latin1' to handle non-UTF-8 encoded characters\n",
    "loader = CSVLoader(file_path='random_questions.csv', source_column=\"prompt\", encoding='latin1')\n",
    "\n",
    "# Store the loaded data in the 'data' variable\n",
    "data = loader.load()\n",
    "\n",
    "# Print the data to verify it loaded correctly\n",
    "print(data[1])\n"
   ]
  },
  {
   "cell_type": "markdown",
   "id": "4dd45e51",
   "metadata": {},
   "source": [
    "### Hugging Face Embeddings"
   ]
  },
  {
   "cell_type": "markdown",
   "id": "e8b15d20",
   "metadata": {},
   "source": [
    "https://python.langchain.com/v0.1/docs/integrations/text_embedding/"
   ]
  },
  {
   "cell_type": "code",
   "execution_count": 9,
   "id": "4886f3db",
   "metadata": {},
   "outputs": [
    {
     "name": "stdout",
     "output_type": "stream",
     "text": [
      "load INSTRUCTOR_Transformer\n",
      "max_seq_length  512\n",
      "[-0.04389806464314461, 0.0076855444349348545, -0.009231903590261936, 0.02449624612927437, 0.033592283725738525, 0.06253515928983688, 0.010531390085816383, 0.02161242440342903, -0.022162262350320816, 0.02974751405417919, 0.044324278831481934, -0.014968819916248322, 0.04655832052230835, 0.03853655233979225, -0.06129590794444084, -0.04503975063562393, -0.07021934539079666, -0.014154862612485886, -0.02652382105588913, 0.012313466519117355, 0.06716737151145935, -0.005974942352622747, -0.011286315508186817, 0.01893932744860649, 0.011767163872718811, 0.01971540041267872, -0.024538308382034302, 0.027542205527424812, 0.064799465239048, -0.05754318833351135, 0.01590231992304325, -0.03111973963677883, -0.057875435799360275, -0.04131997749209404, -0.024895012378692627, 0.026121458038687706, 0.014952129684388638, 0.00224844878539443, 0.038221005350351334, 0.013710809871554375, -0.004282935988157988, 0.02549811825156212, 0.04529273509979248, -0.04229624941945076, 0.0005462021799758077, -0.036311350762844086, -0.04490416869521141, -0.030951932072639465, -0.014220413751900196, 0.004950314294546843, -0.04268919304013252, -0.03376989811658859, -0.0227641724050045, 0.002636748133227229, 0.03156036511063576, -0.04203179478645325, -0.08199168741703033, 0.019133081659674644, 0.07102462649345398, -0.062438517808914185, -0.04646323621273041, 0.0062767816707491875, -0.12732863426208496, -0.003660681890323758, 0.04050483554601669, -0.06363631039857864, 0.03957518935203552, -0.016020948067307472, 0.010537955909967422, -0.042276713997125626, 0.04445933923125267, -0.028928464278578758, 0.019235536456108093, -0.05159337818622589, -0.01045822724699974, -0.015228153206408024, 0.05539444833993912, 0.021747875958681107, -0.03937408700585365, 0.055463872849941254, 0.02462528832256794, -0.00010451689740875736, 0.016158556565642357, -0.0480014905333519, -0.028332116082310677, 0.04841337725520134, -0.023595649749040604, -0.010692606680095196, 0.0019988876301795244, 0.029769502580165863, -0.04199909046292305, -0.03254613280296326, -0.013306023553013802, -0.015431193634867668, -0.02588655613362789, 0.02126205712556839, 0.048984479159116745, 0.006590726785361767, 0.05680348351597786, 0.04831813648343086, 0.07041200995445251, 0.04150189831852913, -0.06339672952890396, 0.03482948616147041, -0.027407348155975342, -0.002298030536621809, -0.005451990757137537, -0.04616951197385788, -0.06564046442508698, 0.020367922261357307, 0.007003622595220804, -0.019939573481678963, -0.00922795757651329, 0.0015556811122223735, 0.016916634514927864, 0.022092005237936974, 0.06479573994874954, -0.04785022884607315, -0.03795197606086731, -0.03293844312429428, 0.024775680154561996, 0.02179879881441593, 0.006036711856722832, 0.002487949561327696, -0.04649987816810608, -0.00013652388588525355, 0.005715417675673962, -0.04615112766623497, 0.013197099789977074, -0.013996098190546036, 0.00021960691083222628, 0.05953771993517876, 0.03588418662548065, -0.08622711896896362, 0.019736111164093018, 0.01842326857149601, -0.03239843621850014, -0.009756939485669136, 0.019465407356619835, 0.05071459710597992, -0.056664835661649704, -0.044595081359148026, -0.017028657719492912, 0.014248890802264214, -0.026450056582689285, 0.042370107024908066, 0.027211913838982582, -0.024366894736886024, -0.029675746336579323, 0.003071778453886509, 0.024590419605374336, -0.06439350545406342, -0.007419629022479057, 0.03690265491604805, -0.007459713611751795, 0.0302736759185791, -0.022632941603660583, -0.01068053487688303, -0.023874593898653984, -0.006194800138473511, -0.007361742202192545, 0.08035887032747269, -0.027026379480957985, 0.0383816622197628, -0.047857459634542465, -0.0334930345416069, 0.013073081150650978, 0.09103133529424667, -0.02249869517982006, -0.05127070099115372, -0.07438502460718155, 0.009396062232553959, 0.04571611061692238, 0.006094706244766712, -0.02213962934911251, 0.0466533899307251, 0.03609241917729378, 0.00380529067479074, -0.026313114911317825, 0.08042223006486893, 0.02224748022854328, -0.06517674773931503, -0.033414993435144424, 0.014076294377446175, 0.014313851483166218, -0.06517879664897919, -0.0179129745811224, 0.013347296975553036, -0.0038091049063950777, -0.03776929900050163, -0.04910669103264809, 0.006134368479251862, -0.0044928244315087795, 0.0031037412118166685, 0.03191826120018959, -0.024818556383252144, -0.039990395307540894, 0.01760256290435791, 0.007984256371855736, -0.008313593454658985, -0.023020489141345024, 0.01725427247583866, -0.008518601767718792, -0.00300977542065084, -0.01503066997975111, 0.06319775432348251, -0.016812313348054886, 0.11984514445066452, -0.04838240146636963, -0.045813605189323425, -0.04313858970999718, -0.04825642332434654, -0.002983678365126252, 0.08402160555124283, 0.04551396146416664, 0.03576372563838959, -0.050279900431632996, -0.04190423712134361, 0.0584394633769989, 0.038062822073698044, 0.09339401125907898, 0.051853299140930176, -0.03717730939388275, -0.025544319301843643, 0.0477868914604187, 0.05029790848493576, -0.04421951249241829, -0.06956548243761063, 0.010444587096571922, 0.056387245655059814, -0.03778932988643646, 0.0017522976268082857, -0.008915571495890617, 0.00852949544787407, -0.028285423293709755, -0.07121364772319794, 0.04367293789982796, 0.048354607075452805, -0.02570313960313797, 0.05988113954663277, -0.036740854382514954, 0.035934530198574066, 0.03133416175842285, -0.02323400415480137, -0.012793419882655144, -0.034390341490507126, 0.022691894322633743, 0.006059845443814993, 0.07460687309503555, -0.027112027630209923, 0.06895264983177185, 0.004191230982542038, 0.0010628190357238054, 0.04473969340324402, -0.013470468111336231, 0.04529067501425743, 0.04621712863445282, 0.00029082130640745163, -0.014439287595450878, 0.07747577875852585, 0.017144957557320595, 0.009592943824827671, 0.039212945848703384, 0.013780881650745869, 0.06251191347837448, 0.038225676864385605, 0.036308761686086655, 0.04839957877993584, 0.030742431059479713, -0.0030117430724203587, 0.03103620745241642, 0.03601314127445221, -0.011602508835494518, 0.01093815453350544, 0.012524132616817951, -0.08116128295660019, 0.040088143199682236, -0.039892084896564484, 0.00128419219981879, 0.02539076842367649, -0.039251867681741714, 0.06632723659276962, 0.027835629880428314, -0.01959427073597908, -0.0019532921724021435, -0.003795479191467166, -0.05945853143930435, 0.018793057650327682, -0.002703663893043995, 0.002852235920727253, -0.02003890834748745, 0.027108753100037575, 0.023144830018281937, -0.07477428019046783, -0.031191518530249596, -0.02657727524638176, -0.046548955142498016, -0.012717227451503277, -0.06299131363630295, -0.0135719059035182, -0.06192600727081299, -0.01679123193025589, 0.07345985621213913, -0.007218897342681885, 0.0013270573690533638, -0.02393578551709652, 0.0027717927005141973, -0.050535913556814194, -0.05095691606402397, -0.06028217449784279, -0.03491737321019173, -0.026468366384506226, -0.0867002010345459, 0.03914789855480194, 0.02989252656698227, 0.05170871317386627, -0.002169655403122306, -0.011805964633822441, -0.05029298737645149, 0.006786911282688379, 0.02267255075275898, 0.05236853286623955, -0.02001873403787613, -0.027562931180000305, 0.007724739145487547, -0.002631124574691057, 0.008007987402379513, -0.038259297609329224, -0.011486365459859371, 0.08335418254137039, 0.08533567190170288, 0.01787637546658516, 0.01351874228566885, 0.020455220714211464, -0.04886902868747711, 0.0011474867351353168, -0.04434247314929962, -0.004441004246473312, -0.017773179337382317, -0.04171452671289444, -0.017375634983181953, -0.015173498541116714, -0.026163863018155098, -0.02026475965976715, 0.002451877808198333, -0.024524178355932236, 0.03102635219693184, 0.06417043507099152, 0.03463183343410492, 0.0356718972325325, -0.03289909288287163, -0.015144105069339275, 0.0674041137099266, 0.0014613308012485504, -0.008804775774478912, -0.06328757107257843, -0.03446020185947418, 0.04812043160200119, 0.019614193588495255, 0.024639688432216644, -0.03346102684736252, 0.028898926451802254, 0.028902437537908554, -0.02551996521651745, 0.002974758855998516, -0.05693843960762024, -0.027350811287760735, -0.020128250122070312, -0.023730238899588585, -0.03421497717499733, -0.015781041234731674, -0.02605270966887474, -0.01939605362713337, 0.03310493752360344, -0.05191836878657341, -0.022582804784178734, -0.01523223239928484, 0.016709420830011368, 0.05595263093709946, -0.009192138910293579, -0.01328783854842186, -0.01721270941197872, -0.06251151114702225, -0.015562206506729126, 0.043256424367427826, 0.010667744092643261, -0.004183357581496239, 0.03441035374999046, 0.027614230290055275, -0.013434220105409622, 0.011096467263996601, -0.01152716763317585, 0.04619631916284561, 0.035740967839956284, -0.03187049552798271, 0.023027468472719193, -0.05578291043639183, 0.03189327195286751, -0.004350179806351662, 0.0024971729144454002, -0.0575110949575901, -0.08611802756786346, -0.025241225957870483, 0.03051217459142208, -0.005543605424463749, -0.027406077831983566, 0.04960044473409653, -0.0198642760515213, 0.002391319489106536, 0.02125806175172329, 0.010617327876389027, 0.035584911704063416, -0.01700403541326523, 0.03803594410419464, -0.0395076610147953, 0.005914074834436178, 0.0003045212069991976, 0.0027464888989925385, -0.019793270155787468, -0.0186670683324337, 0.004360392689704895, 0.060434307903051376, 0.0020995514933019876, 0.015985755249857903, 0.06100426986813545, 0.0214040856808424, -0.04457097128033638, -0.007906791754066944, 0.044286031275987625, -0.02025873214006424, -0.02395247109234333, 0.01942136324942112, 0.02421480417251587, -0.01185381319373846, -0.03537560626864433, -0.004022764042019844, 0.013401216827332973, 0.047669727355241776, -0.02531041018664837, 0.0002959124103654176, 0.01325109414756298, 0.006675989832729101, -0.039186011999845505, -0.030399175360798836, 0.0029534236527979374, -0.004120467696338892, 0.005283026024699211, 0.038267623633146286, 0.0034003618638962507, 0.021788040176033974, 0.04470721632242203, -0.004203897435218096, -0.03211548924446106, -0.03312510997056961, 0.022462675347924232, 0.0019605387933552265, -0.04317587614059448, -0.09273816645145416, -0.052167829126119614, 0.03268514946103096, 0.029797740280628204, 0.003905434161424637, -0.06419924646615982, 0.03162630647420883, 0.03285093978047371, -0.09038315713405609, 0.054427631199359894, -0.012043969705700874, 0.03890645503997803, 0.03501741588115692, 0.010175875388085842, 0.028062475845217705, 0.005625488702207804, 0.007968904450535774, -0.015303964726626873, 0.022559259086847305, -0.01260201632976532, -0.012492207810282707, -0.040835510939359665, 0.006560542620718479, 0.057351987808942795, 0.055069778114557266, 0.03957156836986542, -0.05247267335653305, -0.03172874450683594, -0.016941344365477562, 0.0529133640229702, -0.04024093598127365, 0.026428403332829475, 0.04162662476301193, 0.054751813411712646, -0.022151468321681023, -0.03139660879969597, 0.00048916443483904, 0.005187835544347763, 0.030096936970949173, -0.0358092337846756, -0.04683941230177879, -0.01234475988894701, 0.030993783846497536, 0.017664607614278793, -0.027434900403022766, -0.036406051367521286, 0.024495873600244522, 0.009474610909819603, -0.03910353034734726, 0.0669570192694664, 0.014438536949455738, 0.004062877502292395, 0.09090840071439743, 0.02981816604733467, 0.006278020329773426, -0.022226404398679733, 0.06136566027998924, -0.03597371280193329, -0.0613698773086071, 0.02315354533493519, -0.057341672480106354, 0.012087281793355942, -0.03258974477648735, -0.041972920298576355, -0.03485358506441116, -0.01139671728014946, 0.020694687962532043, -0.003535415045917034, 0.04895183816552162, 0.01821271888911724, 0.02604430355131626, 0.05225227773189545, -0.030332157388329506, -0.032872091978788376, -0.01730293035507202, -0.04333128407597542, -0.02275390736758709, 0.023752711713314056, 0.04008525237441063, -0.010668119415640831, -0.01812133379280567, 0.010621330700814724, 0.03532836213707924, -0.004857058171182871, -0.029705451801419258, 0.047923244535923004, 0.003568969201296568, -0.03494831919670105, 0.04004228487610817, -0.04737658053636551, 0.021079067140817642, 0.01826758123934269, -0.01573040708899498, 0.006065808702260256, -0.0004541137022897601, 0.011358927935361862, -0.03585418686270714, 0.019470596686005592, 0.015331813134253025, -0.01792757585644722, -0.018157292157411575, -0.015397286042571068, 0.007042672950774431, 0.04110027104616165, -0.03245745226740837, -0.013520020060241222, 0.006021720357239246, 0.03408699110150337, 0.02459055930376053, -0.0006100294413045049, -0.05498656630516052, 0.048429857939481735, -0.025428371503949165, 0.028894437476992607, 0.00666372524574399, 0.02570720762014389, -0.005599693860858679, 0.02519719861447811, -0.004163950216025114, 0.005120671819895506, -0.08705192804336548, 0.07914756238460541, -0.006639913190156221, -0.012888440862298012, -0.034373294562101364, 0.05397328734397888, -0.012765495106577873, 0.00936664454638958, -0.022866182029247284, 0.03074117749929428, -0.03808102011680603, 0.007378419395536184, -0.01892414502799511, 0.004145370330661535, -0.02047910913825035, 0.01250289287418127, -0.024308523163199425, -0.005586634855717421, -0.010913515463471413, -0.059032510966062546, 0.013529565185308456, 0.02189471386373043, 0.030241910368204117, 0.015146118588745594, -0.00834687054157257, -0.005995790474116802, 0.00804692693054676, -0.005197715014219284, -0.009284994564950466, 0.0005665635108016431, -0.035251256078481674, 0.008490740321576595, 0.022420886904001236, 0.04262690618634224, -0.02690144255757332, -0.02021745964884758, 0.014883327297866344, 0.013242444954812527, 0.040665801614522934, 0.038540054112672806, -0.009021281264722347, 0.03659561648964882, 0.02651674672961235, -0.033048003911972046, 0.0223556999117136, -0.026046698912978172, 0.006681821774691343, -0.010871405713260174, -0.040593378245830536, 0.03226492553949356, 0.024578779935836792, -0.020279552787542343, 0.00985412672162056, 0.06939718127250671, 0.048579223453998566, 0.011414204724133015, 7.74285290390253e-05, -0.05635753646492958, 0.010076244361698627, 0.040904998779296875, -0.011951161548495293, 0.044722456485033035, 0.0177790317684412, -0.010218295268714428, 0.0656549409031868, -0.005509388167411089, -0.012481669895350933, 0.00405785720795393, 0.029017332941293716, -0.026618294417858124, 0.03769821301102638, -0.03980250284075737, 0.014381571672856808, 0.034157466143369675, -0.0500091090798378, -0.04334254935383797, -0.02873131074011326, 0.07867436856031418, -0.06793482601642609, 0.09366986900568008, -0.007021354977041483, 0.001873930566944182, 0.03443238139152527, -0.00367186451330781, -0.02098841220140457, -0.009753749705851078, -0.029254935681819916, 0.014149842783808708, -0.028678137809038162, -0.07077047228813171, 0.033544883131980896, -0.011628204956650734, -0.08448559045791626, 0.006437096744775772, -0.0024603635538369417, -0.005249846260994673, 0.01850624941289425, 0.0462086945772171, 0.004022407345473766, 0.007326015271246433, -0.04416907578706741, 0.033953603357076645, -0.046459753066301346, -0.012402820400893688, 0.02148428000509739, -0.048938971012830734, -0.028233015909790993, 0.011185499839484692, -0.03353358432650566, 0.027562305331230164, 0.053278446197509766, -0.02465089224278927, -0.0771670714020729, 0.0028346823528409004, 0.036773812025785446, -0.015491871163249016, -0.005652406252920628, -0.02523178793489933, 0.026326507329940796, 0.01624133810400963, -0.0054256971925497055, 0.032448992133140564, 0.0012226433027535677, -0.006227931473404169, -0.07410244643688202, -0.035753533244132996, 0.04476508870720863, 0.006425763014703989, 0.0010318256681784987, 0.011372909881174564, 0.03218357264995575, 0.03302176669239998, -0.011398108676075935, -0.020083440467715263, -0.020004823803901672, -0.018069583922624588, -0.037629466503858566, 0.009355609305202961, 0.012702565640211105, 0.02746402658522129, -0.023498492315411568, 0.05940242111682892, 0.05577165633440018, 0.004538290202617645, 0.0012508591171354055, -0.03802122548222542, -0.04240541532635689, 0.02159103751182556, -0.030984977260231972, 0.009835668839514256, -0.04772200807929039, -0.049591612070798874, -0.042728785425424576, -0.010091413743793964, -0.043086759746074677, -0.006921037100255489, -0.04200020805001259, -0.005538966506719589, 0.027523662894964218, 0.03066074289381504, -0.047506269067525864, -0.08992264419794083, -0.02777671627700329, -0.05593189224600792, 0.02194082736968994, 0.033320073038339615, -0.022777874022722244, -0.00022337399423122406, -0.06327880918979645, 0.005873733665794134, 0.042059190571308136, -0.007820774801075459, -0.03531159833073616, 0.05715380236506462, 0.03803444653749466, -0.011295929551124573, 0.028297537937760353, 0.04416656494140625, -0.0454765148460865, 0.06228717416524887, 0.018777208402752876, 0.019174573943018913, 0.029707083478569984, 0.027787907049059868, -0.05770642310380936, -0.024018440395593643, -0.06828991323709488, 0.008754312060773373, -0.03797169402241707, 0.013464687392115593, 0.031538210809230804]\n"
     ]
    }
   ],
   "source": [
    "try:\n",
    "    from langchain.embeddings import HuggingFaceInstructEmbeddings\n",
    "    from InstructorEmbedding import INSTRUCTOR\n",
    "    from sentence_transformers import SentenceTransformer\n",
    "\n",
    "    # Initialize instructor embeddings using the Hugging Face model\n",
    "    instructor_embeddings = HuggingFaceInstructEmbeddings(model_name=\"hkunlp/instructor-large\")\n",
    "\n",
    "    # Embed a query\n",
    "    el = instructor_embeddings.embed_query(\"What is your refund policy?\")\n",
    "    print(el)\n",
    "\n",
    "except ImportError as e:\n",
    "    print(\"ImportError: \", e)\n",
    "    print(\"Please make sure all dependencies are installed and compatible.\")\n",
    "except Exception as e:\n",
    "    print(\"An error occurred: \", e)\n"
   ]
  },
  {
   "cell_type": "code",
   "execution_count": 10,
   "id": "04a4de8c",
   "metadata": {},
   "outputs": [
    {
     "name": "stdout",
     "output_type": "stream",
     "text": [
      "load INSTRUCTOR_Transformer\n",
      "max_seq_length  512\n"
     ]
    }
   ],
   "source": [
    "from langchain.embeddings import HuggingFaceInstructEmbeddings\n",
    "\n",
    "# Initialize instructor embeddings using the Hugging Face model\n",
    "instructor_embeddings = HuggingFaceInstructEmbeddings(model_name=\"hkunlp/instructor-large\")\n",
    "\n",
    "e = instructor_embeddings.embed_query(\"What is your refund policy?\")"
   ]
  },
  {
   "cell_type": "code",
   "execution_count": 11,
   "id": "0762eeac",
   "metadata": {},
   "outputs": [
    {
     "data": {
      "text/plain": [
       "768"
      ]
     },
     "execution_count": 11,
     "metadata": {},
     "output_type": "execute_result"
    }
   ],
   "source": [
    "len(e)"
   ]
  },
  {
   "cell_type": "code",
   "execution_count": 12,
   "id": "e6fab6ce",
   "metadata": {},
   "outputs": [
    {
     "data": {
      "text/plain": [
       "[-0.04389806464314461,\n",
       " 0.0076855444349348545,\n",
       " -0.009231903590261936,\n",
       " 0.02449624612927437,\n",
       " 0.033592283725738525]"
      ]
     },
     "execution_count": 12,
     "metadata": {},
     "output_type": "execute_result"
    }
   ],
   "source": [
    "e[:5]"
   ]
  },
  {
   "cell_type": "markdown",
   "id": "e571c0d2",
   "metadata": {},
   "source": [
    "As we can see above, a list of size 768 is embedded for the sentence \"What is your return policy.\" It is assumed that the numbers in this list represent the meaning of \"What is your refund policy\" rather than providing an intuitive grasp of what it is."
   ]
  },
  {
   "cell_type": "markdown",
   "id": "cc80a28a",
   "metadata": {},
   "source": [
    "### Vector store using FAISS"
   ]
  },
  {
   "cell_type": "code",
   "execution_count": 13,
   "id": "b3c706da",
   "metadata": {},
   "outputs": [],
   "source": [
    "from langchain.vectorstores import FAISS\n",
    "\n",
    "# Create a FAISS instance for vector database from 'data'\n",
    "vectordb = FAISS.from_documents(documents=data,\n",
    "                                 embedding=instructor_embeddings)\n",
    "\n",
    "# Create a retriever for querying the vector database\n",
    "retriever = vectordb.as_retriever(score_threshold = 0.7)"
   ]
  },
  {
   "cell_type": "code",
   "execution_count": null,
   "id": "cfd58f6f",
   "metadata": {},
   "outputs": [
    {
     "data": {
      "text/plain": [
       "[Document(page_content='prompt: Do you provide any job assistance?\\nresponse: Yes, We help you with resume and interview preparation along with that we help you in building online credibility, and based on requirements we refer candidates to potential recruiters.', metadata={'source': 'Do you provide any job assistance?', 'row': 11}),\n",
       " Document(page_content='prompt: Will this course guarantee me a job?\\nresponse: We created a much lighter version of this course on YouTube available for free (click this link) and many people gave us feedback that they were able to fetch jobs (see testimonials). Now this paid course is at least 5x better than the YouTube course which gives us ample confidence that you will be able to get a job. However, we want to be honest and do not want to make any impractical promises! Our guarantee is to prepare you for the job market by teaching the most relevant skills, knowledge & timeless principles good enough to fetch the job.', metadata={'source': 'Will this course guarantee me a job?', 'row': 33}),\n",
       " Document(page_content='prompt: Will this bootcamp guarantee me a job?\\nresponse: The courses included in this bootcamp are done by 9000+ learners and many of them have secured a job which gives us ample confidence that you will be able to get a job. However, we want to be honest and do not want to make any impractical promises! Our guarantee is to prepare you for the job market by teaching the most relevant skills, knowledge & timeless principles good enough to fetch the job.', metadata={'source': 'Will this bootcamp guarantee me a job?', 'row': 15}),\n",
       " Document(page_content='prompt: Do you provide any virtual internship?\\nresponse: Yes', metadata={'source': 'Do you provide any virtual internship?', 'row': 14})]"
      ]
     },
     "execution_count": 13,
     "metadata": {},
     "output_type": "execute_result"
    },
    {
     "ename": "",
     "evalue": "",
     "output_type": "error",
     "traceback": [
      "\u001b[1;31mnotebook controller is DISPOSED. \n",
      "\u001b[1;31mView Jupyter <a href='command:jupyter.viewOutput'>log</a> for further details."
     ]
    }
   ],
   "source": [
    "rdocs = retriever.get_relevant_documents(\"how about job placement support?\")\n",
    "rdocs"
   ]
  },
  {
   "cell_type": "markdown",
   "id": "4cf6b257",
   "metadata": {},
   "source": [
    "The retriever that was developed using FAISS and hugging face embedding can now extract relevant documents from our initial CSV file knowledge store."
   ]
  },
  {
   "cell_type": "markdown",
   "id": "45bee857",
   "metadata": {},
   "source": [
    "##### FAISS and embracing face embeddings were more suitable"
   ]
  },
  {
   "cell_type": "code",
   "execution_count": 14,
   "id": "a93d079d",
   "metadata": {},
   "outputs": [],
   "source": [
    "# google_palm_embeddings = GooglePalmEmbeddings(google_api_key=api_key)\n",
    "\n",
    "# from langchain.vectorstores import Chroma\n",
    "# vectordb = Chroma.from_documents(data,\n",
    "#                            embedding=google_palm_embeddings,\n",
    "#                            persist_directory='./chromadb')\n",
    "# vectordb.persist()"
   ]
  },
  {
   "cell_type": "markdown",
   "id": "02f3d927",
   "metadata": {},
   "source": [
    "### Create RetrievalQA chain"
   ]
  },
  {
   "cell_type": "code",
   "execution_count": null,
   "id": "ec8efd2f",
   "metadata": {},
   "outputs": [
    {
     "ename": "",
     "evalue": "",
     "output_type": "error",
     "traceback": [
      "\u001b[1;31mnotebook controller is DISPOSED. \n",
      "\u001b[1;31mView Jupyter <a href='command:jupyter.viewOutput'>log</a> for further details."
     ]
    }
   ],
   "source": [
    "from langchain.chains import RetrievalQA\n",
    "\n",
    "chain = RetrievalQA.from_chain_type(llm=llm,\n",
    "                            chain_type=\"stuff\",\n",
    "                            retriever=retriever,\n",
    "                            input_key=\"query\",\n",
    "                            return_source_documents=True,\n",
    "                            # chain_type_kwargs=chain_type_kwargs)"
   ]
  },
  {
   "cell_type": "code",
   "execution_count": null,
   "id": "cc7690b0",
   "metadata": {},
   "outputs": [
    {
     "ename": "",
     "evalue": "",
     "output_type": "error",
     "traceback": [
      "\u001b[1;31mnotebook controller is DISPOSED. \n",
      "\u001b[1;31mView Jupyter <a href='command:jupyter.viewOutput'>log</a> for further details."
     ]
    }
   ],
   "source": [
    "response = chain('Do you provide job assistance and also do you provide job gurantee?')\n",
    "response"
   ]
  },
  {
   "cell_type": "code",
   "execution_count": null,
   "id": "08c78ce8",
   "metadata": {},
   "outputs": [
    {
     "ename": "",
     "evalue": "",
     "output_type": "error",
     "traceback": [
      "\u001b[1;31mnotebook controller is DISPOSED. \n",
      "\u001b[1;31mView Jupyter <a href='command:jupyter.viewOutput'>log</a> for further details."
     ]
    }
   ],
   "source": [
    "response = chain('Do you have any plans of launching food course ?')\n",
    "response"
   ]
  },
  {
   "cell_type": "markdown",
   "id": "d6a0bf2d",
   "metadata": {},
   "source": [
    "### Create RetrievalQA chain along with prompt template"
   ]
  },
  {
   "cell_type": "code",
   "execution_count": null,
   "id": "2d4842c8",
   "metadata": {},
   "outputs": [
    {
     "ename": "",
     "evalue": "",
     "output_type": "error",
     "traceback": [
      "\u001b[1;31mnotebook controller is DISPOSED. \n",
      "\u001b[1;31mView Jupyter <a href='command:jupyter.viewOutput'>log</a> for further details."
     ]
    }
   ],
   "source": [
    "from langchain.prompts import PromptTemplate\n",
    "\n",
    "prompt_template = \"\"\"Given the following context and a question, generate an answer based on this context only.\n",
    "In the answer try to provide as much text as possible from \"response\" section in the source document context without making much changes.\n",
    "If the answer is not found in the context, kindly state \"I don't know.\" Don't try to make up an answer.\n",
    "\n",
    "CONTEXT: {context}\n",
    "\n",
    "QUESTION: {question}\"\"\"\n",
    "\n",
    "\n",
    "PROMPT = PromptTemplate(\n",
    "    template=prompt_template, input_variables=[\"context\", \"question\"]\n",
    ")\n",
    "chain_type_kwargs = {\"prompt\": PROMPT}"
   ]
  },
  {
   "cell_type": "code",
   "execution_count": null,
   "id": "070f46c8",
   "metadata": {},
   "outputs": [
    {
     "ename": "",
     "evalue": "",
     "output_type": "error",
     "traceback": [
      "\u001b[1;31mnotebook controller is DISPOSED. \n",
      "\u001b[1;31mView Jupyter <a href='command:jupyter.viewOutput'>log</a> for further details."
     ]
    }
   ],
   "source": [
    "from langchain.chains import RetrievalQA\n",
    "\n",
    "chain = RetrievalQA.from_chain_type(llm=llm,\n",
    "                            chain_type=\"stuff\",\n",
    "                            retriever=retriever,\n",
    "                            input_key=\"query\",\n",
    "                            return_source_documents=True,\n",
    "                            chain_type_kwargs={\"prompt\": PROMPT})"
   ]
  },
  {
   "cell_type": "code",
   "execution_count": null,
   "id": "5d81e6ff",
   "metadata": {},
   "outputs": [
    {
     "ename": "",
     "evalue": "",
     "output_type": "error",
     "traceback": [
      "\u001b[1;31mnotebook controller is DISPOSED. \n",
      "\u001b[1;31mView Jupyter <a href='command:jupyter.viewOutput'>log</a> for further details."
     ]
    }
   ],
   "source": [
    "response = chain('Do you have any plans of launching food course ?')\n",
    "response"
   ]
  },
  {
   "cell_type": "markdown",
   "id": "b3a4e3e4",
   "metadata": {},
   "source": [
    "**As you can see above, the answer of question comes from two different FAQs within our csv file and it is able to pull those questions and merge them nicely**"
   ]
  },
  {
   "cell_type": "markdown",
   "id": "dea70fe2",
   "metadata": {},
   "source": [
    "### Let's ask some questions"
   ]
  },
  {
   "cell_type": "code",
   "execution_count": null,
   "id": "26291e94",
   "metadata": {},
   "outputs": [],
   "source": [
    "chain('Do you provide job assistance and also do you provide job gurantee?')"
   ]
  },
  {
   "cell_type": "code",
   "execution_count": 17,
   "id": "82dce73e",
   "metadata": {},
   "outputs": [
    {
     "data": {
      "text/plain": [
       "{'query': 'Do you guys provide internship and also do you offer EMI payments?',\n",
       " 'result': \"Yes, we provide virtual internship and we don't offer EMI payments.\",\n",
       " 'source_documents': [Document(page_content='prompt: Do you provide any virtual internship?\\nresponse: Yes', metadata={'source': 'Do you provide any virtual internship?', 'row': 14}),\n",
       "  Document(page_content='prompt: Do we have an EMI option?\\nresponse: No', metadata={'source': 'Do we have an EMI option?', 'row': 13}),\n",
       "  Document(page_content='prompt: Do you provide any job assistance?\\nresponse: Yes, We help you with resume and interview preparation along with that we help you in building online credibility, and based on requirements we refer candidates to potential recruiters.', metadata={'source': 'Do you provide any job assistance?', 'row': 11}),\n",
       "  Document(page_content='prompt: How can I contact the instructors for any doubts/support?\\nresponse: We have created every lecture with a motive to explain everything in an easy-to-understand manner. While working on these lectures you could make mistakes in steps or have some doubts. You need to commit yourself to hold patience, make efforts & diagnose the errors yourself by googling in order to become truly job ready. For any questions, that Google cannot answer or if you hit a wall - we got you covered! You can join our active discord community. which is a dedicated platform to discuss & clear your doubts with fellow learners & mentors.', metadata={'source': 'How can I contact the instructors for any doubts/support?', 'row': 5})]}"
      ]
     },
     "execution_count": 17,
     "metadata": {},
     "output_type": "execute_result"
    }
   ],
   "source": [
    "chain(\"Do you guys provide internship and also do you offer EMI payments?\")"
   ]
  },
  {
   "cell_type": "code",
   "execution_count": 18,
   "id": "48970302",
   "metadata": {
    "scrolled": false
   },
   "outputs": [
    {
     "data": {
      "text/plain": [
       "{'query': 'do you have javascript course?',\n",
       " 'result': \"I don't know.\",\n",
       " 'source_documents': [Document(page_content='prompt: I have never done programming and belong to a non-technical background. Can I take this course?\\nresponse: Yes, this is the perfect course for anyone who has never done coding and wants to build a career in the IT/Data Analytics industry or just wants to perform better in their current job or business using data.', metadata={'source': 'I have never done programming and belong to a non-technical background. Can I take this course?', 'row': 24}),\n",
       "  Document(page_content='prompt: I have never done programming in my life. Can I take this bootcamp?\\nresponse: Yes, this is the perfect bootcamp for anyone who has never done coding and wants to build a career in the IT/Data Analytics industry or just wants to perform better in your current job or business using data.', metadata={'source': 'I have never done programming in my life. Can I take this bootcamp?', 'row': 0}),\n",
       "  Document(page_content='prompt: Is there any prerequisite for taking this bootcamp ?\\nresponse: Our bootcamp is specifically designed for beginners with no prior experience in this field. The only prerequisite is that you need to have a functional laptop with at least 4GB ram, an internet connection, and a thrill to learn data analysis.', metadata={'source': 'Is there any prerequisite for taking this bootcamp ?', 'row': 2}),\n",
       "  Document(page_content='prompt: Is there any prerequisite for taking this course?\\nresponse: The only prerequisite is that you need to have a functional laptop with at least 4GB ram, internet connection and a thrill to learn data analysis.', metadata={'source': 'Is there any prerequisite for taking this course?', 'row': 35})]}"
      ]
     },
     "execution_count": 18,
     "metadata": {},
     "output_type": "execute_result"
    }
   ],
   "source": [
    "chain(\"do you have javascript course?\")"
   ]
  },
  {
   "cell_type": "code",
   "execution_count": 19,
   "id": "c17dc6c3",
   "metadata": {},
   "outputs": [
    {
     "data": {
      "text/plain": [
       "{'query': 'Do you have plans to launch blockchain course in future?',\n",
       " 'result': \"I don't know.\",\n",
       " 'source_documents': [Document(page_content='prompt: Will the course be upgraded when there are new features in Power BI?\\nresponse: Yes, the course will be upgraded periodically based on the new features in Power BI, and learners who have already bought this course will have free access to the upgrades.', metadata={'source': 'Will the course be upgraded when there are new features in Power BI?', 'row': 27}),\n",
       "  Document(page_content='prompt: What business concepts and domains are covered in this course?\\nresponse: We have covered the core functions such as Sales, Marketing, Finance, and Supply Chain with their fundamentals related to this course. The domain you will learn in this course is consumer goods which is projected to have more openings and high data analytics requirements at least until 2030.', metadata={'source': 'What business concepts and domains are covered in this course?', 'row': 32}),\n",
       "  Document(page_content='prompt: How can I contact the instructors for any doubts/support?\\nresponse: We have created every lecture with a motive to explain everything in an easy-to-understand manner. While working on these lectures you could make mistakes in steps or have some doubts. You need to commit yourself to hold patience, make efforts & diagnose the errors yourself by googling in order to become truly job ready. For any questions, that Google cannot answer or if you hit a wall - we got you covered! You can join our active discord community. which is a dedicated platform to discuss & clear your doubts with fellow learners & mentors.', metadata={'source': 'How can I contact the instructors for any doubts/support?', 'row': 5}),\n",
       "  Document(page_content='prompt: What is different in this course compared to hundreds of courses on the internet and free tutorials on YouTube?\\nresponse: Most of the courses available on the internet teach you how to build x & y without any business context and do not prepare you for real business world problem-solving. This course is rather an experience in which you will learn Excel by solving real-life use cases in an imaginary company called AtliQ Hardware. The tutorials are very easy to understand and also have a lot of fun elements into them so that you don’t get bored ??', metadata={'source': 'What is different in this course compared to hundreds of courses on the internet and free tutorials on YouTube?', 'row': 18})]}"
      ]
     },
     "execution_count": 19,
     "metadata": {},
     "output_type": "execute_result"
    }
   ],
   "source": [
    "chain(\"Do you have plans to launch blockchain course in future?\")"
   ]
  },
  {
   "cell_type": "code",
   "execution_count": 20,
   "id": "0c35c2c3",
   "metadata": {},
   "outputs": [
    {
     "data": {
      "text/plain": [
       "{'query': 'should I learn power bi or tableau?',\n",
       " 'result': 'This is a contextual question. If you are talking about a pure visualization tool Tableau is slightly better. Data connectors, modeling and transformation features are available in both. However, factually speaking Power BI is cheaper and offers tighter integration with the Microsoft environment. Since most companies use excel & Microsoft tools they start with Power BI or move towards Power BI for seamless integration with other Microsoft tools (called as Power platform). This makes the job openings grow at a much higher rate on Power BI and Power Platform. Also, Power BI has been leading the Gartner’s magic quadrant in BI for the last few years as the industry leader.',\n",
       " 'source_documents': [Document(page_content='prompt: Power BI or Tableau which one is better?\\nresponse: This is a contextual question. If you are talking about a pure visualization tool Tableau is slightly better. Data connectors, modeling and transformation features are available in both. However, factually speaking Power BI is cheaper and offers tighter integration with the Microsoft environment. Since most companies use excel & Microsoft tools they start with Power BI or move towards Power BI for seamless integration with other Microsoft tools (called as Power platform). This makes the job openings grow at a much higher rate on Power BI and Power Platform. Also, Power BI has been leading the Gartner’s magic quadrant in BI for the last few years as the industry leader.', metadata={'source': '\\nPower BI or Tableau which one is better?', 'row': 29}),\n",
       "  Document(page_content='prompt: What is different in this course from thousands of other Power BI courses available online?\\nresponse: Most of the courses available on the internet teach you how to build x & y without any business context and do not prepare you for the real business world. This course is rather an experience in which you will learn how to use Power BI & other non-technical skills to solve a real-life business problem using analytics. Here you focus on solving a business problem and in that process learn how Power BI can be used as a tool. This is how you will do the work when you start working as a data analyst/ Business analyst/ Power BI developer in the industry. This course will prepare you for not just fetching the job but, shine in it & grow further.', metadata={'source': 'What is different in this course from thousands of other Power BI courses available online?', 'row': 36}),\n",
       "  Document(page_content='prompt: I already know basic Power BI, what benefit do I get by taking this course?\\nresponse: This course is taught through a true end-to-end project in a Consumer goods company involving all the steps mimicking the real business environment, so you will learn how to execute end-to-end projects Power BI projects successfully along with the business fundamentals. You will learn a lot of extra things such as Project management tools, effective communication techniques & organizational nuances.', metadata={'source': 'I already know basic Power BI, what benefit do I get by taking this course?', 'row': 37}),\n",
       "  Document(page_content='prompt: Is this bootcamp enough for me in Microsoft Power BI and\\n Excel certifications?\\nresponse: Yes, this bootcamp will certainly help because we cover the majority of the skills measured in these exams. However, please be informed that this course focuses on Job ready aspects and not on all aspects required to clear the exams. In addition to this course, you might need to visit the official learning material designed by Microsoft which is available for free on their website.', metadata={'source': 'Is this bootcamp enough for me in Microsoft Power BI and\\n Excel certifications?', 'row': 12})]}"
      ]
     },
     "execution_count": 20,
     "metadata": {},
     "output_type": "execute_result"
    }
   ],
   "source": [
    "chain(\"should I learn power bi or tableau?\")"
   ]
  },
  {
   "cell_type": "code",
   "execution_count": 21,
   "id": "a054c5ff",
   "metadata": {},
   "outputs": [
    {
     "data": {
      "text/plain": [
       "{'query': \"I've a MAC computer. Can I use powerbi on it?\",\n",
       " 'result': 'response: Hi\\n\\nPower BI desktop works only in Windows OS. Please look into the system requirements section on this page. However, you can use a virtual machine to install and work with Power BI in other Operating systems.',\n",
       " 'source_documents': [Document(page_content='prompt: How can I use PowerBI on my Mac system?\\nresponse: Hi\\n\\nYou can use VirtualBox to create a virtual machine and install Windows on it. This will allow you to run Power BI and Excel on your Mac.\\n\\nIf you\\'re not familiar with setting up a virtual machine, there are many resources available on YouTube that can guide you through the process. Simply search for \"installing virtual machines\" and you\\'ll find plenty of helpful videos.\\n\\nBest of luck with your studies!', metadata={'source': 'How can I use PowerBI on my Mac system?', 'row': 44}),\n",
       "  Document(page_content='prompt: Does Power BI work in Mac OS/Ubuntu?\\nresponse: Power BI desktop works only in Windows OS. Please look into the system requirements section on this page. However, you can use a virtual machine to install and work with Power BI in other Operating systems.', metadata={'source': 'Does Power BI work in Mac OS/Ubuntu?', 'row': 31}),\n",
       "  Document(page_content='prompt: i am unable to import data from mysql in power bi ,connector issue is coming continuously i have done all steps according to connector pdf still its not resolving please guide\\nresponse: Please refer to this thread: https://discord.com/channels/1090613684163850280/1107992760105054238/1107993007606730802', metadata={'source': 'i am unable to import data from mysql in power bi ,connector issue is coming continuously i have done all steps according to connector pdf still its not resolving please guide', 'row': 54}),\n",
       "  Document(page_content='prompt: Is this bootcamp enough for me in Microsoft Power BI and\\n Excel certifications?\\nresponse: Yes, this bootcamp will certainly help because we cover the majority of the skills measured in these exams. However, please be informed that this course focuses on Job ready aspects and not on all aspects required to clear the exams. In addition to this course, you might need to visit the official learning material designed by Microsoft which is available for free on their website.', metadata={'source': 'Is this bootcamp enough for me in Microsoft Power BI and\\n Excel certifications?', 'row': 12})]}"
      ]
     },
     "execution_count": 21,
     "metadata": {},
     "output_type": "execute_result"
    }
   ],
   "source": [
    "chain(\"I've a MAC computer. Can I use powerbi on it?\")"
   ]
  },
  {
   "cell_type": "code",
   "execution_count": null,
   "id": "89fa5d10",
   "metadata": {},
   "outputs": [],
   "source": [
    "chain(\"I don't see power pivot. how can I enable it?\")"
   ]
  },
  {
   "cell_type": "code",
   "execution_count": null,
   "id": "c6539e58",
   "metadata": {},
   "outputs": [],
   "source": [
    "chain(\"What is the price of your machine learning course?\")"
   ]
  }
 ],
 "metadata": {
  "kernelspec": {
   "display_name": "Python 3 (ipykernel)",
   "language": "python",
   "name": "python3"
  },
  "language_info": {
   "codemirror_mode": {
    "name": "ipython",
    "version": 3
   },
   "file_extension": ".py",
   "mimetype": "text/x-python",
   "name": "python",
   "nbconvert_exporter": "python",
   "pygments_lexer": "ipython3",
   "version": "3.10.14"
  }
 },
 "nbformat": 4,
 "nbformat_minor": 5
}
